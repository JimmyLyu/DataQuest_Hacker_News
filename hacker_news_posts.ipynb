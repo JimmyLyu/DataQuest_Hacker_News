{
 "cells": [
  {
   "cell_type": "markdown",
   "id": "5164203b",
   "metadata": {},
   "source": [
    "# **Hacker News Site- Posts that get the Maximum Comments**\n",
    "\n",
    "\n",
    "\n",
    "\n",
    "\n",
    "\n",
    "## **Objective**\n",
    "\n",
    "In this guided project, we want to study posts from Hacker News, the two types of posts we want to look into are:\n",
    "* `Ask HN`: users submit posts to ask the Hacker News community a specific question.\n",
    "* `Show HN`: users sumbit posts to show the Hacker News community a project, product, or something interesting.\n",
    "\n",
    "The data set is from <a href='https://www.kaggle.com/hacker-news/hacker-news-posts' target='_blank'>Kaggle.com</a>\n",
    "\n",
    "The original data set from Kaggle were extracted in 2016 which contains 300,000 rows , we will only be working with 20,000 rows, since posts without comments were removed and then randomly sampled from the remaining submissions.\n",
    "\n",
    "\n",
    "\n",
    "\n",
    "For the purpose of this project, we will compare the two types of posts to determine the following:\n",
    "* Do `Ask HN` or `Show HN` receive more comments on average?\n",
    "* Do posts created at a certain time receive more comments on average?\n",
    "\n",
    "\n",
    "\n",
    "## **Importing the data**\n"
   ]
  },
  {
   "cell_type": "code",
   "execution_count": 1,
   "id": "561c6e4d",
   "metadata": {},
   "outputs": [
    {
     "name": "stdout",
     "output_type": "stream",
     "text": [
      "['id', 'title', 'url', 'num_points', 'num_comments', 'author', 'created_at']\n",
      "[['12224879', 'Interactive Dynamic Video', 'http://www.interactivedynamicvideo.com/', '386', '52', 'ne0phyte', '8/4/2016 11:52'], ['10975351', 'How to Use Open Source and Shut the Fuck Up at the Same Time', 'http://hueniverse.com/2016/01/26/how-to-use-open-source-and-shut-the-fuck-up-at-the-same-time/', '39', '10', 'josep2', '1/26/2016 19:30'], ['11964716', \"Florida DJs May Face Felony for April Fools' Water Joke\", 'http://www.thewire.com/entertainment/2013/04/florida-djs-april-fools-water-joke/63798/', '2', '1', 'vezycash', '6/23/2016 22:20'], ['11919867', 'Technology ventures: From Idea to Enterprise', 'https://www.amazon.com/Technology-Ventures-Enterprise-Thomas-Byers/dp/0073523429', '3', '1', 'hswarna', '6/17/2016 0:01'], ['10301696', 'Note by Note: The Making of Steinway L1037 (2007)', 'http://www.nytimes.com/2007/11/07/movies/07stein.html?_r=0', '8', '2', 'walterbell', '9/30/2015 4:12']]\n"
     ]
    }
   ],
   "source": [
    "import csv\n",
    "\n",
    "with open('hacker_news.csv') as hn_posts:\n",
    "    hn=list(csv.reader(hn_posts))\n",
    "    \n",
    "#separating the header from the data for ease of use\n",
    "    hn_header=hn[0]\n",
    "    hn=hn[1:]\n",
    "print(hn_header)    \n",
    "print(hn[:5])\n",
    "    \n",
    "    "
   ]
  },
  {
   "cell_type": "markdown",
   "id": "4905391c",
   "metadata": {},
   "source": [
    "\n",
    "\n",
    "Since we are only concerned with post titles beginning with `Ask HN` and `Show HN`, we will separate the two type of posts into different lists."
   ]
  },
  {
   "cell_type": "code",
   "execution_count": 23,
   "id": "4b289503",
   "metadata": {},
   "outputs": [],
   "source": [
    "ask_posts=[]\n",
    "show_posts=[]\n",
    "other_posts=[]\n",
    "\n",
    "for row in hn:\n",
    "    title=row[1]\n",
    "    if title.lower().startswith('ask hn'):\n",
    "        ask_posts.append(row)\n",
    "        x+=1\n",
    "    elif title.lower().startswith('show hn'):\n",
    "        show_posts.append(row)\n",
    "    else:\n",
    "        other_posts.append(row)\n",
    "        \n"
   ]
  },
  {
   "cell_type": "markdown",
   "id": "445b9340",
   "metadata": {},
   "source": [
    "Let's check the numbers of post on each type of posts."
   ]
  },
  {
   "cell_type": "code",
   "execution_count": 60,
   "id": "6076dfaa",
   "metadata": {},
   "outputs": [
    {
     "name": "stdout",
     "output_type": "stream",
     "text": [
      "1744\n",
      "1162\n",
      "17194\n"
     ]
    }
   ],
   "source": [
    "print(len(ask_posts))\n",
    "print(len(show_posts))\n",
    "print(len(other_posts))\n"
   ]
  },
  {
   "cell_type": "markdown",
   "id": "12d4cff7",
   "metadata": {},
   "source": [
    "## **Determining which type of posts receive more comments**\n",
    "\n",
    "Let's see if `Ask HN` or `Show HN` receive more comments on average"
   ]
  },
  {
   "cell_type": "code",
   "execution_count": 28,
   "id": "21ee2f71",
   "metadata": {},
   "outputs": [
    {
     "name": "stdout",
     "output_type": "stream",
     "text": [
      "For Ask HN posts, there are on average 14.04 comments.\n",
      "For Show HN posts, there are on average 10.32 comments.\n"
     ]
    }
   ],
   "source": [
    "total_ask_comments=0\n",
    "total_show_comments=0\n",
    "\n",
    "for row in hn:\n",
    "    num_comments=row[4]\n",
    "    title=row[1]\n",
    "    if title.lower().startswith('show hn'):\n",
    "        total_show_comments=total_show_comments+int(num_comments)\n",
    "        \n",
    "\n",
    "    elif title.lower().startswith('ask hn'):\n",
    "        total_ask_comments=total_ask_comments+int(num_comments)\n",
    "        y+=1\n",
    "avg_ask_comments=total_ask_comments/len(ask_posts)\n",
    "avg_show_comments=total_show_comments/len(show_posts)\n",
    "\n",
    "print('For Ask HN posts, there are on average {:.2f} comments.'.format(avg_ask_comments))\n",
    "print('For Show HN posts, there are on average {:.2f} comments.'.format(avg_show_comments))"
   ]
  },
  {
   "cell_type": "markdown",
   "id": "dfc254c2",
   "metadata": {},
   "source": [
    "Let's look for maximum number of comments on each type of posts"
   ]
  },
  {
   "cell_type": "code",
   "execution_count": 35,
   "id": "4150575b",
   "metadata": {},
   "outputs": [
    {
     "name": "stdout",
     "output_type": "stream",
     "text": [
      "For Ask HN posts, there is a maximum of 947 comments\n",
      "For Show HN posts, there is a maximum of 306 comments\n"
     ]
    }
   ],
   "source": [
    "max_ask_post=[]\n",
    "for post in ask_posts:\n",
    "    comment=int(post[4])\n",
    "    max_ask_post.append(comment)\n",
    "\n",
    "\n",
    "\n",
    "max_show_post=[]\n",
    "for post in show_posts:\n",
    "    comment=int(post[4])\n",
    "    max_show_post.append(comment)\n",
    "    \n",
    "    \n",
    "print('For Ask HN posts, there is a maximum of {} comments'.format(max(max_ask_post)))\n",
    "print('For Show HN posts, there is a maximum of {} comments'.format(max(max_show_post)))"
   ]
  },
  {
   "cell_type": "markdown",
   "id": "9a8e8537",
   "metadata": {},
   "source": [
    "## **Posts on `Ask HN` receive more comments on average than `Show HN`**\n",
    "\n",
    "\n",
    "As it turns out, `Ask HN` are on average receiving 1.4 times more comments than `Show HN`, and the max comments an `Ask HN` post received is 3 times more than max comments on `Show HN`.\n",
    "\n",
    "Since `Ask HN` posts are more likely to receive comments, we will focus our analaysis on `Ask HN` posts.\n",
    "\n",
    "\n",
    "\n",
    "\n"
   ]
  },
  {
   "cell_type": "markdown",
   "id": "4c75c41b",
   "metadata": {},
   "source": [
    "\n",
    "\n",
    "## **What is the best time for a post to receive more comments**\n",
    "\n",
    "Let's see if `Ask HN` created at a certain time are more likely to attract comments.\n",
    "\n",
    "We will do this in the following steps:\n",
    "\n",
    "\n",
    "**1. Calculate the amount of ask posts created in each hour of the day, along with the number of comments received.**\n"
   ]
  },
  {
   "cell_type": "code",
   "execution_count": 37,
   "id": "23d25917",
   "metadata": {},
   "outputs": [],
   "source": [
    "#Importing the Datetime module since we are working with time and dates\n",
    "import datetime as dt\n"
   ]
  },
  {
   "cell_type": "code",
   "execution_count": 39,
   "id": "5ced91d6",
   "metadata": {},
   "outputs": [
    {
     "name": "stdout",
     "output_type": "stream",
     "text": [
      "{'09': 251, '13': 1253, '10': 793, '14': 1416, '16': 1814, '23': 543, '12': 687, '17': 1146, '15': 4477, '21': 1745, '20': 1722, '02': 1381, '18': 1439, '03': 421, '05': 464, '19': 1188, '01': 683, '22': 479, '08': 492, '04': 337, '00': 447, '06': 397, '07': 267, '11': 641}\n",
      "{'09': 45, '13': 85, '10': 59, '14': 107, '16': 108, '23': 68, '12': 73, '17': 100, '15': 116, '21': 109, '20': 80, '02': 58, '18': 109, '03': 54, '05': 46, '19': 110, '01': 60, '22': 71, '08': 48, '04': 47, '00': 55, '06': 44, '07': 34, '11': 58}\n"
     ]
    }
   ],
   "source": [
    "\n",
    "result_list=[]\n",
    "\n",
    "for post in ask_posts:\n",
    "    created_at=post[6]\n",
    "    num_comments=int(post[4])\n",
    "    result=created_at,num_comments\n",
    "    result_list.append(result)\n",
    "\n",
    "counts_by_hour={}\n",
    "comments_by_hour={}\n",
    "\n",
    "\n",
    "for result in result_list:\n",
    "    num_comments=result[1]\n",
    "    time=result[0]\n",
    "    time=dt.datetime.strptime(time,'%m/%d/%Y %H:%M').strftime('%H')\n",
    "\n",
    "    if time not in counts_by_hour:\n",
    "        counts_by_hour[time]=1\n",
    "        comments_by_hour[time]=num_comments\n",
    "    else:\n",
    "        counts_by_hour[time]+=1\n",
    "        comments_by_hour[time]+=num_comments\n",
    "    \n",
    "print(comments_by_hour)\n",
    "print(counts_by_hour)\n"
   ]
  },
  {
   "cell_type": "markdown",
   "id": "aead970c",
   "metadata": {},
   "source": [
    "**2. Calculate the average number of comments ask posts receive by hour created.**"
   ]
  },
  {
   "cell_type": "code",
   "execution_count": 6,
   "id": "75ab9fb8",
   "metadata": {},
   "outputs": [
    {
     "data": {
      "text/plain": [
       "[['09', 5.5777777777777775],\n",
       " ['13', 14.741176470588234],\n",
       " ['10', 13.440677966101696],\n",
       " ['14', 13.233644859813085],\n",
       " ['16', 16.796296296296298],\n",
       " ['23', 7.985294117647059],\n",
       " ['12', 9.41095890410959],\n",
       " ['17', 11.46],\n",
       " ['15', 38.5948275862069],\n",
       " ['21', 16.009174311926607],\n",
       " ['20', 21.525],\n",
       " ['02', 23.810344827586206],\n",
       " ['18', 13.20183486238532],\n",
       " ['03', 7.796296296296297],\n",
       " ['05', 10.08695652173913],\n",
       " ['19', 10.8],\n",
       " ['01', 11.383333333333333],\n",
       " ['22', 6.746478873239437],\n",
       " ['08', 10.25],\n",
       " ['04', 7.170212765957447],\n",
       " ['00', 8.127272727272727],\n",
       " ['06', 9.022727272727273],\n",
       " ['07', 7.852941176470588],\n",
       " ['11', 11.051724137931034]]"
      ]
     },
     "execution_count": 6,
     "metadata": {},
     "output_type": "execute_result"
    }
   ],
   "source": [
    "avg_by_hour=[]\n",
    "for hr in comments_by_hour:\n",
    "    avg_by_hour.append([hr,comments_by_hour[hr]/counts_by_hour[hr]])\n",
    "    \n",
    "avg_by_hour"
   ]
  },
  {
   "cell_type": "markdown",
   "id": "c8a6068f",
   "metadata": {},
   "source": [
    "Let's sort the average and print the five highest values in a format that's easier to read."
   ]
  },
  {
   "cell_type": "code",
   "execution_count": 59,
   "id": "8e20eaa4",
   "metadata": {},
   "outputs": [
    {
     "name": "stdout",
     "output_type": "stream",
     "text": [
      "Top 5 Hours for Ask Posts Comments\n",
      "\n",
      "At 15:00 there are 38.59 average comments per post.\n",
      "At 02:00 there are 23.81 average comments per post.\n",
      "At 20:00 there are 21.52 average comments per post.\n",
      "At 16:00 there are 16.80 average comments per post.\n",
      "At 21:00 there are 16.01 average comments per post.\n"
     ]
    }
   ],
   "source": [
    "swap_avg_by_hour=[]\n",
    "\n",
    "for hour in avg_by_hour:\n",
    "    swap=hour[1], hour[0]\n",
    "    swap_avg_by_hour.append(swap)\n",
    "    \n",
    "\n",
    "sorted_swap=sorted(swap_avg_by_hour,reverse=True)\n",
    "print('Top 5 Hours for Ask Posts Comments\\n')\n",
    "top_5_hours=[]\n",
    "for hour in sorted_swap[:5]:\n",
    "    top_hour=dt.datetime.strptime(hour[1],'%H')\n",
    "    top_hour=top_hour.strftime('%H:%M')\n",
    "    top_comment=hour[0]\n",
    "  \n",
    "    print(f\"At {top_hour} there are {top_comment :.2f} average comments per post.\")\n",
    "    \n",
    "    \n"
   ]
  },
  {
   "cell_type": "markdown",
   "id": "ad15fe20",
   "metadata": {},
   "source": [
    "## Conclusions\n",
    "\n",
    "After our simple analysis we have discovered the following:\n",
    "* `Ask HN` have higher comments on average than `Show HN` posts, `Ask HN` also have 3 times more maximum comments than `Show HN` posts. \n",
    "\n",
    "\n",
    "\n",
    "* Posts posting on 15:00 US Easter Time receives the highest average comments, that's 2.3 times as much comments compare to posting one hour later at 16:00 US Easter Time, average comments on 15:00 US Easter Time is also 1.6 times as much comments compare to the 2nd highest time period of average comments at 2:00 AM US Easter Time."
   ]
  },
  {
   "cell_type": "markdown",
   "id": "3ea66405",
   "metadata": {},
   "source": [
    "One thing to keep in mind is the data we are analysing had excluded the data on posts without any comments.\n",
    "\n",
    "As a result, our conclusion should be that **in the posts that had received one or more comments**, `Ask HN` posts received more comments on average compared to `Show HN`, and `Ask HN` post created between 15:00 and 16:00 EST received the most comments on average. Further data analysis with more complete data set might change this conclusion."
   ]
  }
 ],
 "metadata": {
  "kernelspec": {
   "display_name": "Python 3",
   "language": "python",
   "name": "python3"
  },
  "language_info": {
   "codemirror_mode": {
    "name": "ipython",
    "version": 3
   },
   "file_extension": ".py",
   "mimetype": "text/x-python",
   "name": "python",
   "nbconvert_exporter": "python",
   "pygments_lexer": "ipython3",
   "version": "3.8.8"
  }
 },
 "nbformat": 4,
 "nbformat_minor": 5
}
